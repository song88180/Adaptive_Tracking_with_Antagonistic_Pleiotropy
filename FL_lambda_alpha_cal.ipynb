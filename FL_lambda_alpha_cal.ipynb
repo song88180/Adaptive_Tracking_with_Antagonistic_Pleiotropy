{
 "cells": [
  {
   "cell_type": "code",
   "execution_count": 2,
   "id": "86974637",
   "metadata": {},
   "outputs": [],
   "source": [
    "import pandas as pd\n",
    "import numpy as np\n",
    "import numpy.random as nrand\n",
    "from statsmodels.distributions.empirical_distribution import ECDF, monotone_fn_inverter\n",
    "import matplotlib as mpl\n",
    "import matplotlib.pyplot as plt\n",
    "#from brokenaxes import brokenaxes\n",
    "import warnings\n",
    "import scipy.stats as stats\n",
    "from scipy.misc import derivative\n",
    "from scipy.integrate import quad\n",
    "import pickle as pkl\n",
    "warnings.filterwarnings('ignore')"
   ]
  },
  {
   "cell_type": "code",
   "execution_count": 3,
   "id": "db5381be",
   "metadata": {},
   "outputs": [],
   "source": [
    "DFE_dict = {}"
   ]
  },
  {
   "cell_type": "code",
   "execution_count": 4,
   "id": "047b4477",
   "metadata": {},
   "outputs": [],
   "source": [
    "# Load DFEs of yeast genes.\n",
    "DFE_dict_tmp = {}\n",
    "\n",
    "Gene_list = ['ADA2','PRS3','ASC1','RAD6','BFR1','RPL29', \\\n",
    "             'BUD23','RPL39','CCW12','RPS7A','EOS1','SNF6','GET1',\\\n",
    "             'TSR2','GIM5','VMA21','IES6','VMA7','LSM1','EST1','PAF1']\n",
    "df_YPD = pd.DataFrame()\n",
    "\n",
    "for Gene in Gene_list:\n",
    "    df_gene = pd.read_csv(f'../../Xukang/Mutants/{Gene}.txt', \n",
    "                     delim_whitespace=True)\n",
    "    df_gene['Gene'] = Gene\n",
    "    df_YPD = pd.concat([df_YPD,df_gene],ignore_index=True)\n",
    "df_YPD = df_YPD[df_YPD['Mutation_type'] != 'Nonsense_mutation']\n",
    "\n",
    "#df_YPD.iloc[:,2:6] = np.log(df_YPD.iloc[:,2:6])\n",
    "df_YPD['YPD_fitness'] = df_YPD[[f'Fitness_from_YPD_replicate_{i}' for i in range(1,5)]].mean(axis=1)\n",
    "_,P = stats.ttest_1samp(df_YPD[['Fitness_from_YPD_replicate_1','Fitness_from_YPD_replicate_2',\n",
    "           'Fitness_from_YPD_replicate_3','Fitness_from_YPD_replicate_4']],1,axis=1)\n",
    "df_YPD['YPD_P'] = P\n",
    "\n",
    "df_all  = pd.read_csv('/home/siliang/Xukang/Fitness_Distribution/All_mutations_four_env_SNF6_two_replicates_se.csv')\n",
    "df_all = df_all[df_all['Mutation_type'] != 'Nonsense_mutation']\n",
    "\n",
    "DFE_dict_tmp['YPD'] = \\\n",
    "    df_YPD.loc[df_YPD['Mutation_type'] == 'Nonsynonymous_mutation',['YPD_fitness','YPD_P']]\n",
    "\n",
    "for env in ['SC_37','YPD_H2O2','YPE']:\n",
    "    df_all[f'{env}_fitness'] = df_all[[f'Fitness_from_{env}_replicate_{i}' for i in range(1,4)]].mean(axis=1)\n",
    "    _,P = stats.ttest_1samp(df_all[[f'Fitness_from_{env}_replicate_{i}' for i in range(1,4)]],1,axis=1)\n",
    "    df_all[f'{env}_P'] = P\n",
    "    DFE_dict_tmp[env] = \\\n",
    "        df_all.loc[df_all['Mutation_type'] == 'Nonsynonymous_mutation',[f'{env}_fitness',f'{env}_P']]\n",
    "\n",
    "DFE_dict['Yeast21genes'] = DFE_dict_tmp"
   ]
  },
  {
   "cell_type": "code",
   "execution_count": 8,
   "id": "203accbf",
   "metadata": {},
   "outputs": [],
   "source": [
    "DFE_dict_tmp = {}\n",
    "hsp_df = pd.read_csv('./HSP90/combined_fitness_2.csv')\n",
    "idx = (hsp_df['mut_type'] == 'Nonsynonymous') & (hsp_df['N_mut'] == 1)\n",
    "subkeys = []\n",
    "for env in ['standard_rep1','standard_rep2','diamide','ethanol','nitrogen_depletion','salt','37C']:\n",
    "    tmp_df = hsp_df.loc[idx,[f'fitness_{env}',f'P_{env}']]\n",
    "    tmp_df = tmp_df.rename(columns={f'fitness_{env}':f'{env}_fitness',f'P_{env}':f'{env}_P'})\n",
    "    DFE_dict_tmp[env] = tmp_df\n",
    "DFE_dict['HSP90'] = DFE_dict_tmp"
   ]
  },
  {
   "cell_type": "code",
   "execution_count": 11,
   "id": "447ede53",
   "metadata": {},
   "outputs": [],
   "source": [
    "DFE_dict_tmp = {}\n",
    "ubi_df = pd.read_csv('./Ubiquitin/Ubiquitin_fitness.csv')\n",
    "env = 'standard'\n",
    "tmp_df = \\\n",
    "    ubi_df.loc[(ubi_df['mut_type'] == 'Nonsynonymous') & (ubi_df['N_mut'] == 1),['fitness','P']]\n",
    "tmp_df = tmp_df.rename(columns={f'fitness':f'{env}_fitness',f'P':f'{env}_P'})\n",
    "DFE_dict_tmp['standard'] = tmp_df\n",
    "DFE_dict['Ubiquitin'] = DFE_dict_tmp"
   ]
  },
  {
   "cell_type": "code",
   "execution_count": 28,
   "id": "5345eceb",
   "metadata": {},
   "outputs": [],
   "source": [
    "DFE_dict_tmp = {}\n",
    "for env in ['no_Lon','Lon']:\n",
    "    result_df = pd.read_csv(f'./DHFR/DHFR_{env}_result.csv')\n",
    "    result_df['fitness'] = np.exp(result_df['growth_rate']*(1/0.23))\n",
    "    idx_non = result_df['mut_type'] == 'Nonsynonymous'\n",
    "    idx_notna = result_df['fitness'].notna()\n",
    "    tmp_df = result_df.loc[idx_non & idx_notna,['fitness','P']]\n",
    "    tmp_df = tmp_df.rename(columns={f'fitness':f'{env}_fitness',f'P':f'{env}_P'})\n",
    "    DFE_dict_tmp[env] = tmp_df\n",
    "DFE_dict['DHFR'] = DFE_dict_tmp\n"
   ]
  },
  {
   "cell_type": "code",
   "execution_count": 49,
   "id": "cfd27e64-38fe-4684-9ae1-88e65f605a6c",
   "metadata": {},
   "outputs": [],
   "source": [
    "DFE_dict_tmp = {}\n",
    "Gene_list = ['ADA2', 'ASC1', 'RPL39', 'TSR2', 'EOS1', 'IES6']\n",
    "df_YPD = pd.DataFrame()\n",
    "\n",
    "for Gene in Gene_list:\n",
    "    df_gene = pd.read_csv(f'../../Xukang/Mutants/{Gene}.txt', \n",
    "                     delim_whitespace=True)\n",
    "    df_gene['Gene'] = Gene\n",
    "    df_YPD = pd.concat([df_YPD,df_gene],ignore_index=True)\n",
    "df_YPD = df_YPD[df_YPD['Mutation_type'] != 'Nonsense_mutation']\n",
    "df_YPD['YPD_fitness'] = df_YPD[[f'Fitness_from_YPD_replicate_{i}' for i in range(1,5)]].mean(axis=1)\n",
    "_,P = stats.ttest_1samp(df_YPD[['Fitness_from_YPD_replicate_1','Fitness_from_YPD_replicate_2',\n",
    "           'Fitness_from_YPD_replicate_3','Fitness_from_YPD_replicate_4']],1,axis=1)\n",
    "df_YPD['YPD_P'] = P\n",
    "\n",
    "DFE_dict_tmp['YPD'] = \\\n",
    "    df_YPD.loc[df_YPD['Mutation_type'] == 'Nonsynonymous_mutation',['YPD_fitness','YPD_P']]\n",
    "\n",
    "\n",
    "DFE_dict['Yeast21genes'] = DFE_dict_tmp"
   ]
  },
  {
   "cell_type": "code",
   "execution_count": 64,
   "id": "b6ed2348-5c9d-4db2-ab1d-b1770487c615",
   "metadata": {},
   "outputs": [],
   "source": [
    "# Load DFEs of yeast genes.\n",
    "DFE_dict_tmp = {}\n",
    "env = 'YPD'\n",
    "\n",
    "Gene_list = ['ADA2', 'ASC1', 'RPL39', 'TSR2', 'EOS1', 'IES6']\n",
    "df_YPD = pd.DataFrame()\n",
    "\n",
    "for Gene in Gene_list:\n",
    "    df_gene = pd.read_csv(f'../../Xukang/Mutants/{Gene}.txt', \n",
    "                     delim_whitespace=True)\n",
    "    df_gene['Gene'] = Gene\n",
    "    df_YPD = pd.concat([df_YPD,df_gene],ignore_index=True)\n",
    "df_YPD = df_YPD[df_YPD['Mutation_type'] != 'Nonsense_mutation']\n",
    "df_YPD['YPD_fitness'] = df_YPD[[f'Fitness_from_YPD_replicate_{i}' for i in range(1,5)]].mean(axis=1)\n",
    "_,P = stats.ttest_1samp(df_YPD[['Fitness_from_YPD_replicate_1','Fitness_from_YPD_replicate_2',\n",
    "           'Fitness_from_YPD_replicate_3','Fitness_from_YPD_replicate_4']],1,axis=1)\n",
    "df_YPD['YPD_P'] = P\n",
    "\n",
    "DFE_dict_6gene = \\\n",
    "    df_YPD.loc[df_YPD['Mutation_type'] == 'Nonsynonymous_mutation',['YPD_fitness','YPD_P']]\n",
    "\n",
    "Yeast11gene_df = pd.read_csv('./Xukang/Xukang_new_data.csv')\n",
    "Yeast11gene_df['fitness'] = Yeast11gene_df.loc[:, ['Fitness1', 'Fitness2', 'Fitness3', 'Fitness4']].mean(axis=1)\n",
    "_,P = stats.ttest_1samp(Yeast11gene_df[['Fitness1','Fitness2','Fitness3','Fitness4']],1,axis=1)\n",
    "Yeast11gene_df['P'] = P\n",
    "\n",
    "tmp_df = \\\n",
    "    Yeast11gene_df.loc[(Yeast11gene_df['Mutation_type'] == 'Nonsynonymous_mutation'),['fitness','P']]\n",
    "DFE_dict_11gene = tmp_df.rename(columns={f'fitness':f'{env}_fitness',f'P':f'{env}_P'})\n",
    "\n",
    "DFE_dict_17gene = pd.concat([DFE_dict_6gene,DFE_dict_11gene],ignore_index=True)\n",
    "\n",
    "DFE_dict_tmp[env] = DFE_dict_17gene\n",
    "DFE_dict['Yeast17genes'] = DFE_dict_tmp"
   ]
  },
  {
   "cell_type": "code",
   "execution_count": 76,
   "id": "8e103ee4-0b4c-4489-9d43-b7d1aa3e1cb7",
   "metadata": {},
   "outputs": [
    {
     "data": {
      "text/plain": [
       "1.0055086226625"
      ]
     },
     "execution_count": 76,
     "metadata": {},
     "output_type": "execute_result"
    }
   ],
   "source": [
    "((DFE_dict_17gene['YPD_P'] < 0.05) & (DFE_dict_17gene['YPD_fitness'] > 1)).sum() / len(DFE_dict_17gene)\n",
    "\n",
    "idx = ((DFE_dict_17gene['YPD_P'] < 0.05) & (DFE_dict_17gene['YPD_fitness'] > 1))\n",
    "DFE_dict_17gene.loc[idx, 'YPD_fitness'].mean()"
   ]
  },
  {
   "cell_type": "code",
   "execution_count": 77,
   "id": "aac13230-b575-4816-b135-4d9ec720f851",
   "metadata": {},
   "outputs": [
    {
     "data": {
      "text/plain": [
       "5386"
      ]
     },
     "execution_count": 77,
     "metadata": {},
     "output_type": "execute_result"
    }
   ],
   "source": [
    "len(DFE_dict_17gene)"
   ]
  },
  {
   "cell_type": "code",
   "execution_count": 65,
   "id": "af3e49bb",
   "metadata": {},
   "outputs": [],
   "source": [
    "def downsample_ben(df_rep,env,Ne):\n",
    "    N_sample = 10000\n",
    "    \n",
    "    idx_ben = df_rep[f'{env}_fitness'] > 1\n",
    "    idx_sig = df_rep[f'{env}_P'] <= 0.05\n",
    "    F_ben = idx_ben.sum()/(df_rep[f'{env}_fitness']>-1).sum()\n",
    "    F_ben_sig = (idx_ben & idx_sig).sum()/(df_rep[f'{env}_fitness']>-1).sum()\n",
    "    \n",
    "    N_ben = int(N_sample*F_ben*0.1)\n",
    "    N_nonben = N_sample - N_ben\n",
    "    df_ben = df_rep[idx_ben].sample(N_ben,replace=True)\n",
    "    df_nonben = df_rep[df_rep[f'{env}_fitness']<=1].sample(N_nonben,replace=True)\n",
    "    df_combined = pd.concat([df_nonben,df_ben])\n",
    "    \n",
    "    df_tmp = df_rep.copy()\n",
    "    idx = df_tmp[f'{env}_P'] > 0.05\n",
    "    df_tmp.loc[idx,f'{env}_fitness'] = 1\n",
    "    \n",
    "    N_ben_sig = int(N_sample*F_ben_sig*0.1)\n",
    "    N_nonben_sig = N_sample - N_ben_sig\n",
    "    df_ben_sig = df_tmp[idx_ben & idx_sig].sample(N_ben_sig,replace=True)\n",
    "    df_nonben_sig = df_tmp[df_tmp[f'{env}_fitness']<=1].sample(N_nonben_sig,replace=True)\n",
    "    df_combined_sig = pd.concat([df_nonben_sig,df_ben_sig])\n",
    "    \n",
    "    return df_combined, df_combined_sig"
   ]
  },
  {
   "cell_type": "code",
   "execution_count": 58,
   "id": "341911df",
   "metadata": {},
   "outputs": [],
   "source": [
    "def get_fix_prob(mean_list,Ne):\n",
    "    #mean_list = np.exp(mean_list)\n",
    "    s = mean_list-1\n",
    "    fix_prob = (1-np.exp(-2*s))/(1-np.exp(-4*Ne*s))\n",
    "    idx = (np.abs(s) < 1/(2*Ne)) | (s == 0)\n",
    "    fix_prob[idx] = 1/(2*Ne)\n",
    "    #fix_prob[fix_prob>1/(2*Ne)] = 1/2\n",
    "    return fix_prob\n",
    "\n",
    "def cal_lambda(mean_list,Ne):\n",
    "    fix_prob = get_fix_prob(mean_list,Ne)\n",
    "    Lambda = fix_prob.mean()*2*Ne\n",
    "    return Lambda\n",
    "\n",
    "def cal_alpha(mean_list,Ne):\n",
    "    fix_prob = get_fix_prob(mean_list,Ne)\n",
    "    benefit_idx = mean_list-1 > 1/(2*Ne)\n",
    "    Alpha = fix_prob[~benefit_idx].sum()/fix_prob.sum()\n",
    "    return Alpha"
   ]
  },
  {
   "cell_type": "code",
   "execution_count": 59,
   "id": "47c38dff",
   "metadata": {},
   "outputs": [],
   "source": [
    "def L(s,a,u,Ne):\n",
    "    return u/s*Ne*np.log(Ne)*np.exp(-a*s)*2*(s+1/a)\n",
    "\n",
    "def fixP(s,a,u,Ne):\n",
    "    return 2*s*np.exp(-L(s,a,u,Ne))\n",
    "\n",
    "def mean_fixP(a,u,Ne):\n",
    "    INT = quad(lambda x: a*2*x*np.exp(-L(x,a,u,Ne)-a*x), 0, np.inf)\n",
    "    return INT"
   ]
  },
  {
   "cell_type": "code",
   "execution_count": 60,
   "id": "614542f2",
   "metadata": {},
   "outputs": [],
   "source": [
    "def cal_asexual(df_rep,env,Ne,u=1.2e-4):\n",
    "    s = df_rep[f'{env}_fitness']-1\n",
    "    a = 1/s[s>1/(2*Ne)].mean()\n",
    "    P_CI = mean_fixP(a,u,Ne)[0]\n",
    "    #P_CI = fixP(x,alpha,u,Ne)\n",
    "    #P_CI[P_CI<1/(2*Ne)] = 1/(2*Ne)\n",
    "    P_Kimura = (1-np.exp(-2*s))/(1-np.exp(-4*Ne*s))\n",
    "    P_fix = P_Kimura\n",
    "    P_fix[s>1/(2*Ne)] = P_CI\n",
    "    Lambda = P_fix.mean()*(2*Ne)\n",
    "    Alpha = P_fix[s<1/(2*Ne)].sum()/P_fix.sum()\n",
    "    return Lambda,Alpha"
   ]
  },
  {
   "cell_type": "code",
   "execution_count": 43,
   "id": "1952824d-1aba-4a22-8bba-4330da00d5ec",
   "metadata": {},
   "outputs": [
    {
     "data": {
      "text/html": [
       "<div>\n",
       "<style scoped>\n",
       "    .dataframe tbody tr th:only-of-type {\n",
       "        vertical-align: middle;\n",
       "    }\n",
       "\n",
       "    .dataframe tbody tr th {\n",
       "        vertical-align: top;\n",
       "    }\n",
       "\n",
       "    .dataframe thead th {\n",
       "        text-align: right;\n",
       "    }\n",
       "</style>\n",
       "<table border=\"1\" class=\"dataframe\">\n",
       "  <thead>\n",
       "    <tr style=\"text-align: right;\">\n",
       "      <th></th>\n",
       "      <th>YPD_fitness</th>\n",
       "      <th>YPD_P</th>\n",
       "    </tr>\n",
       "  </thead>\n",
       "  <tbody>\n",
       "    <tr>\n",
       "      <th>2730</th>\n",
       "      <td>1.01615</td>\n",
       "      <td>0.002244</td>\n",
       "    </tr>\n",
       "  </tbody>\n",
       "</table>\n",
       "</div>"
      ],
      "text/plain": [
       "      YPD_fitness     YPD_P\n",
       "2730      1.01615  0.002244"
      ]
     },
     "execution_count": 43,
     "metadata": {},
     "output_type": "execute_result"
    }
   ],
   "source": [
    "((df_tmp['YPD_P'] < 0.05) & (df_tmp['YPD_fitness'] > 1)).sum()/len(df_tmp)\n",
    "df_tmp[((df_tmp['YPD_P'] < 0.05) & (df_tmp['YPD_fitness'] > 1))]"
   ]
  },
  {
   "cell_type": "code",
   "execution_count": 66,
   "id": "b9247b79",
   "metadata": {},
   "outputs": [
    {
     "name": "stdout",
     "output_type": "stream",
     "text": [
      "10000.0\n",
      "Yeast21genes\n",
      "HSP90\n",
      "Ubiquitin\n",
      "DHFR\n",
      "Yeast17genes\n",
      "1000000.0\n",
      "Yeast21genes\n",
      "HSP90\n",
      "Ubiquitin\n",
      "DHFR\n",
      "Yeast17genes\n",
      "10000000.0\n",
      "Yeast21genes\n",
      "HSP90\n",
      "Ubiquitin\n",
      "DHFR\n",
      "Yeast17genes\n",
      "100000000.0\n",
      "Yeast21genes\n",
      "HSP90\n",
      "Ubiquitin\n",
      "DHFR\n",
      "Yeast17genes\n"
     ]
    }
   ],
   "source": [
    "alpha_Ne_dict = {}\n",
    "lambda_Ne_dict = {}\n",
    "for Ne in [1e4,1e6,1e7,1e8]:\n",
    "    print(Ne)\n",
    "    alpha_Ne_dict[f'{Ne:.0e}'] = {}\n",
    "    lambda_Ne_dict[f'{Ne:.0e}'] = {}\n",
    "    for gene in ['Yeast21genes','HSP90','Ubiquitin','DHFR', 'Yeast17genes']:#\n",
    "        alpha_Ne_dict[f'{Ne:.0e}'][gene] = {}\n",
    "        lambda_Ne_dict[f'{Ne:.0e}'][gene] = {}\n",
    "        print(gene)\n",
    "        df_env_dict = DFE_dict[gene]\n",
    "        for env,df_rep in df_env_dict.items():\n",
    "            Lambda = cal_lambda(df_rep[f'{env}_fitness'], Ne)\n",
    "            Alpha = cal_alpha(df_rep[f'{env}_fitness'], Ne)\n",
    "            Lambda_asexual,Alpha_asexual = cal_asexual(df_rep,env,Ne,u=1.2e-4)\n",
    "\n",
    "            df_tmp = df_rep.copy()\n",
    "            idx = df_tmp[f'{env}_P'] > 0.05\n",
    "            df_tmp.loc[idx,f'{env}_fitness'] = 1\n",
    "            Lambda_sig = cal_lambda(df_tmp[f'{env}_fitness'], Ne)\n",
    "            Alpha_sig = cal_alpha(df_tmp[f'{env}_fitness'], Ne)\n",
    "            \n",
    "            Lambda_ds_list = []\n",
    "            Alpha_ds_list = []\n",
    "            Lambda_ds_sig_list = []\n",
    "            Alpha_ds_sig_list = []\n",
    "            Lambda_ds_asexual_list = []\n",
    "            Alpha_ds_asexual_list = []\n",
    "            for i in range(100):\n",
    "                df_ds_ben, df_ds_ben_sig = downsample_ben(df_rep,env,Ne)\n",
    "\n",
    "                Lambda_ds = cal_lambda(df_ds_ben[f'{env}_fitness'], Ne)\n",
    "                Alpha_ds = cal_alpha(df_ds_ben[f'{env}_fitness'], Ne)\n",
    "                Lambda_ds_asexual,Alpha_ds_asexual = cal_asexual(df_ds_ben,env,Ne,u=1.2e-5)\n",
    "\n",
    "                Lambda_ds_sig = cal_lambda(df_ds_ben_sig[f'{env}_fitness'], Ne)\n",
    "                Alpha_ds_sig = cal_alpha(df_ds_ben_sig[f'{env}_fitness'], Ne)\n",
    "                \n",
    "                Lambda_ds_list.append(Lambda_ds)\n",
    "                Alpha_ds_list.append(Alpha_ds)\n",
    "                Lambda_ds_sig_list.append(Lambda_ds_sig)\n",
    "                Alpha_ds_sig_list.append(Alpha_ds_sig)\n",
    "                Lambda_ds_asexual_list.append(Lambda_ds_asexual)\n",
    "                Alpha_ds_asexual_list.append(Alpha_ds_asexual)\n",
    "                        \n",
    "            lambda_Ne_dict[f'{Ne:.0e}'][gene][env] = \\\n",
    "                [Lambda, Lambda_sig, Lambda_asexual,\n",
    "                 np.mean(Lambda_ds_list), np.mean(Lambda_ds_sig_list), np.mean(Lambda_ds_asexual_list)]\n",
    "            alpha_Ne_dict[f'{Ne:.0e}'][gene][env] = \\\n",
    "                [Alpha, Alpha_sig, Alpha_asexual,\n",
    "                 np.mean(Alpha_ds_list), np.mean(Alpha_ds_sig_list), np.mean(Alpha_ds_asexual_list)]\n"
   ]
  },
  {
   "cell_type": "code",
   "execution_count": 30,
   "id": "e14c0955",
   "metadata": {},
   "outputs": [
    {
     "name": "stdout",
     "output_type": "stream",
     "text": [
      "1e+04\n",
      "Yeast21genes\n",
      "1.2216321945722954\t0.7240896126897672\t0.19334864138031707\t0.00132791792686488\n",
      "1.19190346785737\t1.3846654654086352\t0.38248959247459646\t0.0009976373805259215\n",
      "1.9477718899110588\t1.3414384878894925\t0.22226603602472145\t0.0010850900601160616\n",
      "2.788000382800978\t2.0486099962773294\t0.13096976137174848\t0.0002643011001551194\n",
      "HSP90\n",
      "1.5771178212746149\t3.7260029647059967\t0.5271711602972211\t0.0003557525961202186\n",
      "1.3076639163162493\t6.982604294469933\t0.5894915282970835\t0.0001848214368044196\n",
      "15.629546125766915\t41.00316125749884\t0.05854639603084429\t1.52920978431084e-05\n",
      "6.3257697678438936\t21.91175874837404\t0.14451653153144536\t4.973808298391447e-05\n",
      "4.37551489862243\t12.70005901127572\t0.20753322079778452\t8.30078326782747e-05\n",
      "4.282891951420176\t11.616567137569886\t0.21196934406722445\t5.728661480756493e-05\n",
      "15.708641295017303\t16.561964108129022\t0.024848222447865945\t1.6823555410636917e-05\n",
      "Ubiquitin\n",
      "5.166397471191485\t11.042089041217118\t0.10933563445585168\t2.3749979575623503e-05\n",
      "DHFR\n",
      "176.10669046787802\t168.21467596462938\t0.004386983500540754\t1.0039469268930084e-51\n",
      "239.82135241150135\t293.629940041984\t0.003484849313898308\t9.67469093855125e-11\n",
      "1e+07\n",
      "Yeast21genes\n",
      "993.0637705890732\t2.9812498986404825\t0.00023984663904639007\t8.425150289132925e-19\n",
      "790.2372167931825\t5.573897752387227\t0.0006398490434805176\t7.475378659425295e-16\n",
      "1545.7822163187834\t5.654866070292878\t0.00028202786039575303\t2.304778325422142e-98\n",
      "2439.544284684563\t8.040251767481747\t0.00014951831479727244\t1.1427976480219994e-69\n",
      "HSP90\n",
      "738.9536577568016\t15.143383534606858\t0.0012112506516360072\t2.5328636983492983e-97\n",
      "511.39596428976984\t28.793793584749686\t0.0016068253009468422\t4.725342480857069e-118\n",
      "14829.172753537925\t169.04836467479817\t6.179405604549013e-05\t2.2469483108634484e-128\n",
      "5368.036563198602\t90.74530492930225\t0.000170352020595215\t6.6813805296132715e-143\n",
      "3410.878812889593\t51.25467810459022\t0.00026805145335908416\t9.539530718413461e-114\n",
      "3297.717139641004\t48.743359364428024\t0.0002772897034050585\t0.0\n",
      "15300.095183924925\t67.56443629628012\t2.5532420803629496e-05\t0.0\n",
      "Ubiquitin\n",
      "4578.439067365213\t45.43590536005342\t0.00012338125777359545\t0.0\n",
      "DHFR\n",
      "175268.93133155757\t700.4476530128424\t4.408754883034422e-06\t0.0\n",
      "239965.8219993749\t1220.6418841328389\t3.4822366538229435e-06\t0.0\n"
     ]
    }
   ],
   "source": [
    "for Ne in ['1e+06','1e+07','1e+08']:\n",
    "    print(Ne)\n",
    "    lambda_gene_dict = lambda_Ne_dict[Ne]\n",
    "    alpha_gene_dict = alpha_Ne_dict[Ne]\n",
    "    for gene in ['Yeast21genes','HSP90','Ubiquitin','DHFR']:\n",
    "        print(gene)\n",
    "        lambda_env_dict = lambda_gene_dict[gene]\n",
    "        alpha_env_dict = alpha_gene_dict[gene]\n",
    "        for env,lambda_list in lambda_env_dict.items():\n",
    "            alpha_list = alpha_env_dict[env]\n",
    "            #print(env)\n",
    "            print(\n",
    "#                 lambda_list[0],lambda_list[1],lambda_list[2],lambda_list[3],\n",
    "#                 alpha_list[0],alpha_list[1],alpha_list[2],alpha_list[3],\n",
    "                lambda_list[4],lambda_list[5],alpha_list[4],alpha_list[5],\n",
    "                sep='\\t'\n",
    "            )"
   ]
  },
  {
   "cell_type": "code",
   "execution_count": 67,
   "id": "d4a97b04",
   "metadata": {},
   "outputs": [],
   "source": [
    "# with open('lambda_Ne_dict_2024Oct.pkl','wb') as f:\n",
    "#     pkl.dump(lambda_Ne_dict,f)\n",
    "# with open('alpha_Ne_dict_2024Oct.pkl','wb') as f:\n",
    "#     pkl.dump(alpha_Ne_dict,f)"
   ]
  }
 ],
 "metadata": {
  "kernelspec": {
   "display_name": "Python 3 (ipykernel)",
   "language": "python",
   "name": "python3"
  },
  "language_info": {
   "codemirror_mode": {
    "name": "ipython",
    "version": 3
   },
   "file_extension": ".py",
   "mimetype": "text/x-python",
   "name": "python",
   "nbconvert_exporter": "python",
   "pygments_lexer": "ipython3",
   "version": "3.10.13"
  }
 },
 "nbformat": 4,
 "nbformat_minor": 5
}
