{
 "cells": [
  {
   "cell_type": "code",
   "execution_count": 1,
   "id": "8196cf9f",
   "metadata": {},
   "outputs": [],
   "source": [
    "import pandas as pd\n",
    "import numpy as np\n",
    "import re\n",
    "import pickle as pkl\n",
    "import warnings\n",
    "warnings.filterwarnings('ignore')"
   ]
  },
  {
   "cell_type": "code",
   "execution_count": 2,
   "id": "405eb7f8",
   "metadata": {},
   "outputs": [],
   "source": [
    "nonquasi_list = ['Pseudo','Neutral','Adaptive','Neutral_dom','Adaptive_dom','quasi_stablespace20']\n",
    "quasi_list = [\n",
    "    'quasi_dom',\n",
    "    'quasi_env2','quasi_env5','quasi_env10','quasi_env20',\n",
    "    'quasi_int2','quasi_int25','quasi_int100','quasi_int200',\n",
    "    'quasi_pop500','quasi_pop1000','quasi_pop5000','quasi_pop10000','quasi_pop50000',\n",
    "    'quasi_neufrac0.05','quasi_neufrac0.15','quasi_neufrac0.2','quasi_neufrac0.25',\n",
    "    'quasi_lambda2','quasi_lambda4','quasi_lambda6','quasi_lambda8','quasi_lambda10',\n",
    "    'quasi_AP0.15','quasi_AP0.35','quasi_AP0.45','quasi_AP0.5'\n",
    "]\n",
    "# "
   ]
  },
  {
   "cell_type": "markdown",
   "id": "9280835d-4b1f-44eb-8684-12dba886abdc",
   "metadata": {},
   "source": [
    "## Get allele frequency spectrum"
   ]
  },
  {
   "cell_type": "code",
   "execution_count": 3,
   "id": "c8ff70f1",
   "metadata": {},
   "outputs": [],
   "source": [
    "def get_spectrum(mut_df,Ne):\n",
    "    mut_df['AF'] = mut_df['AF']/(2*Ne)\n",
    "    Total_alleles = len(mut_df)\n",
    "    spectrum = []\n",
    "    for start in np.linspace(0,0.019,20):\n",
    "        F_alleles = (mut_df['AF'] < start+0.001).sum()/Total_alleles #accumulative\n",
    "        spectrum.append(F_alleles)\n",
    "    for start in np.linspace(0.02,0.99,98):\n",
    "        F_alleles = (mut_df['AF'] < start+0.01).sum()/Total_alleles #accumulative\n",
    "        spectrum.append(F_alleles)\n",
    "    return spectrum"
   ]
  },
  {
   "cell_type": "code",
   "execution_count": 4,
   "id": "8d77a3d5",
   "metadata": {},
   "outputs": [],
   "source": [
    "def get_mean_spectrum(rep,version):\n",
    "    target_dir = f'./data/Simulation_log/rep{rep}/{version}_20samples/'\n",
    "    if version == 'quasi_pop50000':\n",
    "        N_gen_total = 160000\n",
    "    else:\n",
    "        N_gen_total = 200000\n",
    "    if 'pop' in version:\n",
    "        Ne = int(re.search(r'pop(\\d+)',version)[1])\n",
    "    else:\n",
    "        Ne = 10000\n",
    "    spectrum_list = []\n",
    "    for N_gen in range(N_gen_total-19000,N_gen_total+1,1000):\n",
    "        mut_df = pd.read_table(target_dir+f'{version}_{N_gen}.txt',header=None,delim_whitespace=True)\n",
    "        mut_df = mut_df.rename(columns={4:'ID',7:'s',10:'SG',11:'AF'})\n",
    "        \n",
    "        if version == 'quasi_stablespace20':\n",
    "            mut_dict = {}\n",
    "            for i,row in mut_df.iterrows():\n",
    "                if row['ID'] in mut_dict:\n",
    "                    mut_dict[row['ID']] += row['AF']\n",
    "                else:\n",
    "                    mut_dict[row['ID']] = row['AF']\n",
    "            mut_df = pd.DataFrame(list(mut_dict.items()),columns=['ID', 'AF'])\n",
    "        \n",
    "        spectrum = get_spectrum(mut_df,Ne)\n",
    "        spectrum_list.append(spectrum)\n",
    "    spectrum_mean = np.mean(spectrum_list,axis=0)    \n",
    "    return spectrum_mean"
   ]
  },
  {
   "cell_type": "code",
   "execution_count": null,
   "id": "59e6721d",
   "metadata": {},
   "outputs": [],
   "source": [
    "spectrum_final_dict = {}\n",
    "for version in nonquasi_list+quasi_list:\n",
    "    print(version)\n",
    "    spectrum_mean_list = []\n",
    "    for rep in range(1,31):\n",
    "        print(rep,end='\\r',flush=True)\n",
    "        spectrum_mean = get_mean_spectrum(rep,version)\n",
    "        spectrum_mean_list.append(spectrum_mean)\n",
    "    spectrum_final_dict[version] = np.mean(spectrum_mean_list,axis=0)"
   ]
  },
  {
   "cell_type": "code",
   "execution_count": 10,
   "id": "0f70a1a3",
   "metadata": {},
   "outputs": [],
   "source": [
    "# with open('./data/Allele_spectrum_v3.pkl','wb') as file:\n",
    "#     pkl.dump(spectrum_final_dict,file)"
   ]
  },
  {
   "cell_type": "markdown",
   "id": "fa338196-817a-4ca6-a089-46da17566845",
   "metadata": {},
   "source": [
    "## Get summary statistics for each model"
   ]
  },
  {
   "cell_type": "code",
   "execution_count": 10,
   "id": "ad20b057",
   "metadata": {},
   "outputs": [
    {
     "name": "stdout",
     "output_type": "stream",
     "text": [
      "Pseudo\n",
      "Neutral\n",
      "Adaptive\n",
      "Neutral_dom\n",
      "Adaptive_dom\n",
      "quasi_stablespace20\n",
      "quasi_dom\n",
      "quasi_env2\n",
      "quasi_env5\n",
      "quasi_env10\n",
      "quasi_env20\n",
      "quasi_int2\n",
      "quasi_int25\n",
      "quasi_int100\n",
      "quasi_int200\n",
      "quasi_pop500\n",
      "quasi_pop1000\n",
      "quasi_pop5000\n",
      "quasi_pop10000\n",
      "quasi_pop50000\n",
      "quasi_neufrac0.05\n",
      "quasi_neufrac0.15\n",
      "quasi_neufrac0.2\n",
      "quasi_neufrac0.25\n",
      "quasi_lambda2\n",
      "quasi_lambda4\n",
      "quasi_lambda6\n",
      "quasi_lambda8\n",
      "quasi_lambda10\n",
      "quasi_AP0.15\n",
      "quasi_AP0.35\n",
      "quasi_AP0.45\n",
      "quasi_AP0.5\n",
      "30\r"
     ]
    }
   ],
   "source": [
    "summary_dict = {}\n",
    "selcoeff_cutoff = 0 # 1/(2*Ne)\n",
    "\n",
    "for version in nonquasi_list + quasi_list:\n",
    "    print(version)\n",
    "    if version == 'Pseudo':\n",
    "        summary_dict['Type'] = [version]\n",
    "    else:\n",
    "        summary_dict['Type'].append(version)\n",
    "\n",
    "    if 'pop' in  version:\n",
    "        Ne = int(version.split('pop')[1])\n",
    "    else:\n",
    "        Ne = 10000\n",
    "    \n",
    "    for rep in range(1,31):\n",
    "        print(rep,end='\\r',flush=True)\n",
    "        mut_df = pd.read_csv(\n",
    "            f'./data/Simulation_log/rep{rep}/Mutation_summary_{version}.txt')\n",
    "\n",
    "        if Ne == 50000:\n",
    "            mut_df_sub = mut_df[(mut_df['Gen_E']>=40000) | (mut_df['Gen_E']==-1)]\n",
    "        else:\n",
    "            mut_df_sub = mut_df[(mut_df['Gen_E']>=80000) | (mut_df['Gen_E']==-1)]\n",
    "\n",
    "        for mut_type in ['P','S']: # P for polymorphism, S for substitution\n",
    "            if mut_type == 'P':\n",
    "                idx = mut_df_sub['isFixed'] == 'F'\n",
    "            elif mut_type == 'S':\n",
    "                idx = mut_df_sub['isFixed'] == 'T'\n",
    "            for fitness_type in ['effective','inst']:\n",
    "                if fitness_type == 'effective':\n",
    "                    if version in nonquasi_list:\n",
    "                        key = 'cur_selcoef'\n",
    "                    else:\n",
    "                        key = 'effective_selcoef_1'\n",
    "                elif fitness_type == 'inst':\n",
    "                    key = 'cur_selcoef'\n",
    "                if version == 'Pseudo':\n",
    "                    summary_dict[f'deleterious_{fitness_type}_{mut_type}_{rep}'] = \\\n",
    "                        [(mut_df_sub.loc[idx,key] < -selcoeff_cutoff).sum()]\n",
    "                    summary_dict[f'beneficial_{fitness_type}_{mut_type}_{rep}'] = \\\n",
    "                        [(mut_df_sub.loc[idx,key] > selcoeff_cutoff).sum()]\n",
    "                    summary_dict[f'neutral_{fitness_type}_{mut_type}_{rep}'] = \\\n",
    "                        [((mut_df_sub.loc[idx,key]).abs() <= selcoeff_cutoff).sum()]\n",
    "                else:\n",
    "                    summary_dict[f'deleterious_{fitness_type}_{mut_type}_{rep}'].append(\n",
    "                        (mut_df_sub.loc[idx,key] < -selcoeff_cutoff).sum())\n",
    "                    summary_dict[f'beneficial_{fitness_type}_{mut_type}_{rep}'].append(\n",
    "                        (mut_df_sub.loc[idx,key] > selcoeff_cutoff).sum())\n",
    "                    summary_dict[f'neutral_{fitness_type}_{mut_type}_{rep}'].append(\n",
    "                        ((mut_df_sub.loc[idx,key]).abs() <= selcoeff_cutoff).sum())\n",
    "        if version == 'Pseudo':\n",
    "            summary_dict[f'dNdneutral_{rep}'] = [(mut_df_sub['isFixed'] == 'T').sum()/1920]\n",
    "        else:\n",
    "            summary_dict[f'dNdneutral_{rep}'].append((mut_df_sub['isFixed'] == 'T').sum()/1920)"
   ]
  },
  {
   "cell_type": "code",
   "execution_count": 11,
   "id": "535810d4",
   "metadata": {},
   "outputs": [],
   "source": [
    "summary_df = pd.DataFrame(summary_dict)"
   ]
  },
  {
   "cell_type": "code",
   "execution_count": 49,
   "id": "89fca532",
   "metadata": {},
   "outputs": [],
   "source": [
    "for meanORinst in ['inst','effective']:\n",
    "    for rep in range(1,31):\n",
    "        for Type in ['P','S']:\n",
    "            for mut_type in ['beneficial','neutral','deleterious']:\n",
    "                summary_df[f'{mut_type}_{meanORinst}_{Type}'] = \\\n",
    "                    summary_df.loc[:,[f'{mut_type}_{meanORinst}_{Type}_{rep}' for rep in range(1,31)]].mean(axis=1)\n"
   ]
  },
  {
   "cell_type": "code",
   "execution_count": null,
   "id": "fe64e8bc-edab-460e-91ee-384ca2a864a2",
   "metadata": {},
   "outputs": [],
   "source": [
    "#summary_df.to_csv('./data/SLiM_summary_raw.csv', index=False, na_rep='NA')"
   ]
  },
  {
   "cell_type": "markdown",
   "id": "dcecd5e3-152d-400c-b599-a87ff0e52f75",
   "metadata": {},
   "source": [
    "## Prepare a table for plotting"
   ]
  },
  {
   "cell_type": "code",
   "execution_count": 50,
   "id": "1eedc299",
   "metadata": {
    "scrolled": true
   },
   "outputs": [],
   "source": [
    "tmp_df = pd.DataFrame()\n",
    "tmp_df['Type'] = summary_df['Type']\n",
    "for meanORinst in ['inst','effective']:\n",
    "    for rep in range(1,31):\n",
    "        for Type in ['P','S']:\n",
    "            for mut_type in ['beneficial','neutral','deleterious']:\n",
    "                tmp_df[f'{mut_type}_{meanORinst}_{Type}_{rep}'] = \\\n",
    "                summary_df[f'{mut_type}_{meanORinst}_{Type}_{rep}']/ \\\n",
    "                (summary_df[f'deleterious_{meanORinst}_{Type}_{rep}'] + summary_df[f'beneficial_{meanORinst}_{Type}_{rep}'] + \\\n",
    "                    summary_df[f'neutral_{meanORinst}_{Type}_{rep}'])\n"
   ]
  },
  {
   "cell_type": "code",
   "execution_count": 51,
   "id": "4c80185e",
   "metadata": {},
   "outputs": [],
   "source": [
    "plt_df = pd.DataFrame()\n",
    "plt_df['Type'] = summary_df['Type']\n",
    "for meanORinst in ['inst','effective']:\n",
    "    for Type in ['P','S']:\n",
    "        for mut_type in ['beneficial','neutral','deleterious']:\n",
    "            plt_df[f'{mut_type}_{meanORinst}_{Type}'] = \\\n",
    "                tmp_df.loc[:,[f'{mut_type}_{meanORinst}_{Type}_{rep}' for rep in range(1,31)]].mean(axis=1)\n"
   ]
  },
  {
   "cell_type": "code",
   "execution_count": 52,
   "id": "6291ba62",
   "metadata": {},
   "outputs": [],
   "source": [
    "plt_df = pd.concat([plt_df,summary_df.loc[:,[f'dNdneutral_{rep}' for rep in range(1,31)]]],axis=1)"
   ]
  },
  {
   "cell_type": "code",
   "execution_count": 18,
   "id": "f4fdb37e",
   "metadata": {},
   "outputs": [],
   "source": [
    "#plt_df.to_csv('Simulation_summary.csv',index=False)"
   ]
  }
 ],
 "metadata": {
  "kernelspec": {
   "display_name": "Python 3 (ipykernel)",
   "language": "python",
   "name": "python3"
  },
  "language_info": {
   "codemirror_mode": {
    "name": "ipython",
    "version": 3
   },
   "file_extension": ".py",
   "mimetype": "text/x-python",
   "name": "python",
   "nbconvert_exporter": "python",
   "pygments_lexer": "ipython3",
   "version": "3.10.13"
  }
 },
 "nbformat": 4,
 "nbformat_minor": 5
}
