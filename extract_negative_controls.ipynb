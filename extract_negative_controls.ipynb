{
 "cells": [
  {
   "cell_type": "code",
   "execution_count": 60,
   "id": "b9c70994",
   "metadata": {},
   "outputs": [],
   "source": [
    "import pandas as pd\n",
    "import re"
   ]
  },
  {
   "cell_type": "code",
   "execution_count": 61,
   "id": "920c768a",
   "metadata": {},
   "outputs": [],
   "source": [
    "df_all = pd.read_table(\n",
    "    'Dmel_gene.gff',header=None,\n",
    "    names=['seqname','source','feature','start','end','score','strand','frame','attribute']\n",
    ")"
   ]
  },
  {
   "cell_type": "code",
   "execution_count": 62,
   "id": "66bfaaba",
   "metadata": {},
   "outputs": [],
   "source": [
    "df_selected = pd.read_csv('genes.csv')"
   ]
  },
  {
   "cell_type": "code",
   "execution_count": 63,
   "id": "b7287631",
   "metadata": {},
   "outputs": [],
   "source": [
    "df_range = df_selected['cluster region'].str.split(':|-',expand=True)\n",
    "df_range = df_range.rename(columns={0:'chr',1:'start',2:'end'})\n",
    "df_range = df_range.dropna()\n",
    "df_range['start'] = df_range['start'].astype(int)\n",
    "df_range['end'] = df_range['end'].astype(int)"
   ]
  },
  {
   "cell_type": "code",
   "execution_count": 99,
   "id": "40d1e8f9",
   "metadata": {},
   "outputs": [
    {
     "data": {
      "text/plain": [
       "'ID=gene-Dmel_CR40469;Dbxref=FLYBASE:FBgn0058469,GeneID:5740321;Name=lncRNA:CR40469;cyt_map=1A1-1A1;description=long non-coding RNA:CR40469;gbkey=Gene;gen_map=1-0 cM;gene=lncRNA:CR40469;gene_biotype=lncRNA;gene_synonym=CR40469,Dmel\\\\CR40469;locus_tag=Dmel_CR40469'"
      ]
     },
     "execution_count": 99,
     "metadata": {},
     "output_type": "execute_result"
    }
   ],
   "source": [
    "df_all['attribute'][1]"
   ]
  },
  {
   "cell_type": "code",
   "execution_count": 65,
   "id": "f2dafc77",
   "metadata": {},
   "outputs": [
    {
     "name": "stdout",
     "output_type": "stream",
     "text": [
      "17471\r"
     ]
    }
   ],
   "source": [
    "Chr = None\n",
    "df_negative_control = pd.DataFrame()\n",
    "for i,row in df_all.iterrows():\n",
    "    print(i,end='\\r',flush=True)\n",
    "    flag = False\n",
    "    if row['feature'] == 'region':\n",
    "        Chr = re.search(r'chromosome=(.*?);',row['attribute']).group(1)\n",
    "        continue\n",
    "    else:\n",
    "        start = row['start']\n",
    "        end = row['end']\n",
    "        for j,row2 in df_range.iterrows():\n",
    "            if (row2['chr'] == Chr) and \\\n",
    "            ((row2['start'] < max(start,end)) and (row2['end'] > min(start,end))):\n",
    "                flag = True\n",
    "                break\n",
    "        if not flag:\n",
    "            df_negative_control = df_negative_control.append(row)"
   ]
  },
  {
   "cell_type": "code",
   "execution_count": null,
   "id": "be8fb6a1",
   "metadata": {},
   "outputs": [],
   "source": [
    "biotype = re.search(r'gene_biotype=(.*?);',row['attribute']).group(1)"
   ]
  },
  {
   "cell_type": "code",
   "execution_count": 92,
   "id": "6d3c5aa4",
   "metadata": {},
   "outputs": [],
   "source": [
    "df_negative_control['FLYBASE'] = df_negative_control['attribute'].str.extract(r'FLYBASE:(.*?),')"
   ]
  },
  {
   "cell_type": "code",
   "execution_count": 100,
   "id": "3b8fbb05",
   "metadata": {},
   "outputs": [],
   "source": [
    "df_negative_control['biotype'] = \\\n",
    "    df_negative_control['attribute'].str.extract(r'gene_biotype=(.*?);')"
   ]
  },
  {
   "cell_type": "code",
   "execution_count": 102,
   "id": "ad9ce499",
   "metadata": {},
   "outputs": [
    {
     "data": {
      "text/plain": [
       "2        FBgn0025837\n",
       "3        FBgn0025836\n",
       "5        FBgn0284435\n",
       "7        FBgn0025835\n",
       "9        FBgn0040373\n",
       "            ...     \n",
       "17467    FBgn0267417\n",
       "17468    FBgn0267491\n",
       "17469    FBgn0046698\n",
       "17470    FBgn0046323\n",
       "17471    FBgn0267592\n",
       "Name: FLYBASE, Length: 4354, dtype: object"
      ]
     },
     "execution_count": 102,
     "metadata": {},
     "output_type": "execute_result"
    }
   ],
   "source": [
    "df_negative_control.loc[df_negative_control['biotype'] == 'protein_coding','FLYBASE']"
   ]
  },
  {
   "cell_type": "code",
   "execution_count": 104,
   "id": "a153308a",
   "metadata": {},
   "outputs": [],
   "source": [
    "df_negative_control.loc[df_negative_control['biotype'] == 'protein_coding','FLYBASE'].to_csv(\n",
    "    'FB_names_negative_all.csv',index=False)"
   ]
  },
  {
   "cell_type": "code",
   "execution_count": 105,
   "id": "ff898dfa",
   "metadata": {},
   "outputs": [],
   "source": [
    "df_negative_control.loc[df_negative_control['biotype'] == 'protein_coding','FLYBASE'].sample(\n",
    "    n=114).to_csv('FB_names_negative.csv',index=False)"
   ]
  }
 ],
 "metadata": {
  "kernelspec": {
   "display_name": "Python 3 (ipykernel)",
   "language": "python",
   "name": "python3"
  },
  "language_info": {
   "codemirror_mode": {
    "name": "ipython",
    "version": 3
   },
   "file_extension": ".py",
   "mimetype": "text/x-python",
   "name": "python",
   "nbconvert_exporter": "python",
   "pygments_lexer": "ipython3",
   "version": "3.8.11"
  }
 },
 "nbformat": 4,
 "nbformat_minor": 5
}
