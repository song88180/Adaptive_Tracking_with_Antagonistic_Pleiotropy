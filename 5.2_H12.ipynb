{
 "cells": [
  {
   "cell_type": "code",
   "execution_count": 1,
   "id": "c6c6111d",
   "metadata": {},
   "outputs": [],
   "source": [
    "import numpy as np\n",
    "import pandas as pd\n",
    "import pickle as pkl"
   ]
  },
  {
   "cell_type": "code",
   "execution_count": 2,
   "id": "6700faaa",
   "metadata": {},
   "outputs": [],
   "source": [
    "def H1_H2_H12(genotype_window):\n",
    "    genotype_dict = {}\n",
    "    for genotype in genotype_window:\n",
    "        if genotype in genotype_dict:\n",
    "            genotype_dict[genotype] += 1\n",
    "        else:\n",
    "            genotype_dict[genotype] = 1  \n",
    "    AF_list = np.array(list(genotype_dict.values()))/len(genotype_window)\n",
    "    AF_list = np.sort(AF_list)\n",
    "    H1 = np.power(AF_list,2).sum()\n",
    "    H2 = H1 - AF_list[-1]**2\n",
    "    H12 = H1 + 2*AF_list[-1]*AF_list[-2]\n",
    "    maxP = AF_list[-1]\n",
    "    return H1,H2,H12,H2/H1,maxP,genotype_dict"
   ]
  },
  {
   "cell_type": "code",
   "execution_count": 3,
   "id": "985441be",
   "metadata": {},
   "outputs": [],
   "source": [
    "def get_left_right_idx(left,right,positions):\n",
    "    left_idx = None\n",
    "    right_idx = None\n",
    "    \n",
    "    if left < positions[0]:\n",
    "        left_idx = 0\n",
    "    elif left > positions[-1]:\n",
    "        left_idx = len(positions)-1\n",
    "    if right < positions[0]:\n",
    "        right_idx = 0\n",
    "    elif right > positions[-1]:\n",
    "        right_idx = len(positions)-1\n",
    "    \n",
    "    for i,pos in enumerate(positions):\n",
    "        if (pos >= left) and (left_idx is None):\n",
    "            left_idx = i\n",
    "        if (pos >= right) and (right_idx is None):\n",
    "            right_idx = i-1\n",
    "    return left_idx, right_idx"
   ]
  },
  {
   "cell_type": "code",
   "execution_count": 6,
   "id": "e56d9643",
   "metadata": {},
   "outputs": [],
   "source": [
    "def get_summary_dict(positions,genotype_list):\n",
    "    step_size = 500/200000\n",
    "    window_size = 4000/200000\n",
    "    summary_dict = {\n",
    "        'H1':[],\n",
    "        'H2':[],\n",
    "        'H12':[],\n",
    "        'H2_H1':[],\n",
    "        'maxP':[]\n",
    "    }\n",
    "\n",
    "    x_list = []\n",
    "\n",
    "    for left in range(int((1-window_size)/step_size)+1):\n",
    "        left = left*step_size\n",
    "        right = left + window_size\n",
    "        x_list.append((left+window_size/2)*100000)\n",
    "        left_idx, right_idx = get_left_right_idx(left,right,positions)\n",
    "        genotype_window = []\n",
    "        for genotype in genotype_list:\n",
    "            genotype_window.append(genotype[left_idx:right_idx+1])\n",
    "        H1,H2,H12,H2_H1,maxP,genotype_dict = H1_H2_H12(genotype_window)\n",
    "        summary_dict['H1'].append(H1)\n",
    "        summary_dict['H2'].append(H2)\n",
    "        summary_dict['H12'].append(H12)\n",
    "        summary_dict['H2_H1'].append(H2_H1)\n",
    "        summary_dict['maxP'].append(maxP)\n",
    "    return summary_dict,x_list\n",
    "    "
   ]
  },
  {
   "cell_type": "code",
   "execution_count": 13,
   "id": "8770fd95",
   "metadata": {},
   "outputs": [
    {
     "name": "stdout",
     "output_type": "stream",
     "text": [
      "AdapTrack\n",
      "AdapTrack_env20\n",
      "Adaptive\n",
      "100000\r"
     ]
    }
   ],
   "source": [
    "H12_dict = {}\n",
    "for version in ['Pseudo','Neutral','AdapTrack','AdapTrack_env20','Adaptive']:\n",
    "    print(version)\n",
    "    H12_list = []\n",
    "    for rep in range(1,31):\n",
    "        print(rep, end='\\r', flush=True)\n",
    "        target_dir = \\\n",
    "            f'./data/Simulation_selsweep/rep{rep}/{version}_20samples/'\n",
    "        for N_gen in range(80000,100001,1000):\n",
    "            print(N_gen,end='\\r',flush=True)\n",
    "            with open(target_dir + f'{version}_genome_{N_gen}.txt','r') as f:\n",
    "                lines = f.readlines()\n",
    "                positions = list(map(float, lines[2].strip().split(' ')[1:]))\n",
    "                genotype_list = list(map(str.strip,lines[3:]))\n",
    "            summary_dict, x_list = get_summary_dict(positions,genotype_list)\n",
    "            H12_list.append(summary_dict['H12'])\n",
    "    H12_dict[version] = H12_list"
   ]
  },
  {
   "cell_type": "code",
   "execution_count": 11,
   "id": "617fd59b",
   "metadata": {},
   "outputs": [],
   "source": [
    "# with open('./data/H12_dict.pkl','wb') as f:\n",
    "#     pkl.dump(H12_dict,f)"
   ]
  }
 ],
 "metadata": {
  "kernelspec": {
   "display_name": "Python 3 (ipykernel)",
   "language": "python",
   "name": "python3"
  },
  "language_info": {
   "codemirror_mode": {
    "name": "ipython",
    "version": 3
   },
   "file_extension": ".py",
   "mimetype": "text/x-python",
   "name": "python",
   "nbconvert_exporter": "python",
   "pygments_lexer": "ipython3",
   "version": "3.10.13"
  }
 },
 "nbformat": 4,
 "nbformat_minor": 5
}
